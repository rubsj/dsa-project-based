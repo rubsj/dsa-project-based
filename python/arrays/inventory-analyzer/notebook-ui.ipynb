{
 "cells": [
  {
   "cell_type": "code",
   "execution_count": null,
   "id": "0aabdc48",
   "metadata": {},
   "outputs": [
    {
     "name": "stdout",
     "output_type": "stream",
     "text": [
      "✅ Inventory Analyzer Report\n",
      "---------------------------\n",
      "Duplicate IDs: True\n",
      "Most Frequent Product: 102\n",
      "Out of Stock Items: [103]\n",
      "Reorder Suggestions: [102, 103, 102]\n",
      "Second Highest Stocked Product: 105\n",
      "Stock Summary: {'total_products': 8, 'distinct_products': 5, 'average_stock': 3.5}\n"
     ]
    }
   ],
   "source": [
    "# Importing functions from core.py\n",
    "from core import (\n",
    "    has_duplicates,\n",
    "    most_frequent_product,\n",
    "    out_of_stock_items,\n",
    "    reorder_suggestions,\n",
    "    second_highest_stock,\n",
    "    stock_summary\n",
    ")\n",
    "\n",
    "# Sample input\n",
    "product_ids = [101, 102, 101, 103, 104, 102, 102, 105]\n",
    "stock_counts = [5, 2, 7, 0, 3, 1, 4, 6]\n",
    "\n",
    "threshold = 3  # for reorder suggestion\n",
    "\n",
    "print(\"✅ Inventory Analyzer Report\")\n",
    "print(\"---------------------------\")\n",
    "print(\"Duplicate IDs:\", has_duplicates(product_ids))\n",
    "print(\"Most Frequent Product:\", most_frequent_product(product_ids))\n",
    "print(\"Out of Stock Items:\", out_of_stock_items(stock_counts, product_ids))\n",
    "print(\"Reorder Suggestions:\", reorder_suggestions(stock_counts, product_ids, threshold))\n",
    "print(\"Second Highest Stocked Product:\", second_highest_stock(stock_counts, product_ids))\n",
    "print(\"Stock Summary:\", stock_summary(stock_counts, product_ids))\n"
   ]
  },
  {
   "cell_type": "code",
   "execution_count": null,
   "id": "efa8a579",
   "metadata": {},
   "outputs": [],
   "source": [
    "# notebook_ui.ipynb (Python cell code)\n",
    "\n",
    "# Importing functions from core.py\n",
    "from core import (\n",
    "    has_duplicates,\n",
    "    most_frequent_product,\n",
    "    out_of_stock_items,\n",
    "    reorder_suggestions,\n",
    "    second_highest_stock,\n",
    "    stock_summary,\n",
    "    aggregate_stock_by_product,\n",
    "    has_stock_spike_window,\n",
    "    longest_mountain_stock_run\n",
    ")\n",
    "\n",
    "# Sample input\n",
    "product_ids = [101, 102, 101, 103, 104, 102, 102, 105]\n",
    "stock_counts = [5, 2, 7, 0, 3, 1, 4, 6]\n",
    "\n",
    "threshold = 3  # for reorder suggestion\n",
    "window_size = 3\n",
    "window_threshold = 10\n",
    "\n",
    "print(\"✅ Inventory Analyzer Report\")\n",
    "print(\"---------------------------\")\n",
    "print(\"Duplicate IDs:\", has_duplicates(product_ids))\n",
    "print(\"Most Frequent Product:\", most_frequent_product(product_ids))\n",
    "print(\"Out of Stock Items:\", out_of_stock_items(stock_counts, product_ids))\n",
    "print(\"Reorder Suggestions:\", reorder_suggestions(stock_counts, product_ids, threshold))\n",
    "print(\"Second Highest Stocked Product:\", second_highest_stock(stock_counts, product_ids))\n",
    "print(\"Stock Summary:\", stock_summary(stock_counts, product_ids))\n",
    "\n",
    "print(\"\\n📦 Aggregated Stock by Product ID:\")\n",
    "print(aggregate_stock_by_product(product_ids, stock_counts))\n",
    "\n",
    "print(\"\\n📈 Stock Spike in Sliding Window:\")\n",
    "print(f\"Window Size = {window_size}, Threshold = {window_threshold}\")\n",
    "print(\"Stock Spike Detected:\", has_stock_spike_window(stock_counts, window_size, window_threshold))\n",
    "\n",
    "print(\"\\n⛰️ Longest Balanced Stock Streak (Mountain):\")\n",
    "print(\"Length:\", longest_mountain_stock_run(stock_counts))\n"
   ]
  }
 ],
 "metadata": {
  "kernelspec": {
   "display_name": ".venv",
   "language": "python",
   "name": "python3"
  },
  "language_info": {
   "codemirror_mode": {
    "name": "ipython",
    "version": 3
   },
   "file_extension": ".py",
   "mimetype": "text/x-python",
   "name": "python",
   "nbconvert_exporter": "python",
   "pygments_lexer": "ipython3",
   "version": "3.12.10"
  }
 },
 "nbformat": 4,
 "nbformat_minor": 5
}
